{
 "cells": [
  {
   "cell_type": "markdown",
   "id": "14c1c966",
   "metadata": {},
   "source": [
    "## Connect and query"
   ]
  },
  {
   "cell_type": "code",
   "execution_count": 71,
   "id": "2d7e3cf7",
   "metadata": {},
   "outputs": [],
   "source": [
    "import sys\n",
    "sys.path.append('/home/delgado/proj/buhayra_manuscript/buhayra')\n"
   ]
  },
  {
   "cell_type": "code",
   "execution_count": 72,
   "id": "ecd98ab2",
   "metadata": {},
   "outputs": [],
   "source": [
    "from credentials import *"
   ]
  },
  {
   "cell_type": "code",
   "execution_count": 73,
   "id": "7fbef99d",
   "metadata": {},
   "outputs": [],
   "source": [
    "import psycopg2\n",
    "import osgeo.ogr\n",
    "import shapely\n",
    "import shapely.wkt\n",
    "import geopandas as gpd"
   ]
  },
  {
   "cell_type": "code",
   "execution_count": 152,
   "id": "0533feaa",
   "metadata": {},
   "outputs": [],
   "source": [
    "connection = psycopg2.connect(database=\"watermasks\",user=postgis_user, password=postgis_pass,host=postgis_host)\n",
    "cursor = connection.cursor()\n",
    "\n"
   ]
  },
  {
   "cell_type": "markdown",
   "id": "52653bb4",
   "metadata": {},
   "source": [
    "## Derive query\n",
    "The syntax of the query should look something like:\n",
    "\n",
    "```\n",
    "SELECT `id`, `id_jrc`, `ingestion_time`, `area`\n",
    "FROM (SELECT `id`, `id_jrc`, `ingestion_time`, `area`, MAX(`ingestion_time`) OVER (PARTITION BY `id_jrc`) AS `q01`\n",
    "FROM `df`)\n",
    "WHERE (`ingestion_time` = `q01`)\n",
    "```"
   ]
  },
  {
   "cell_type": "markdown",
   "id": "bc56ac34",
   "metadata": {},
   "source": [
    "I am splitting the query into a sub query `sub_q` and a main query. ***In the end I used only the subquery and performed the final filter on geopandas***"
   ]
  },
  {
   "cell_type": "code",
   "execution_count": 91,
   "id": "c1c25a9f",
   "metadata": {},
   "outputs": [],
   "source": [
    "year=2020\n",
    "month=4\n",
    " \n",
    "sub_q_select = \" SELECT id, id_jrc, ingestion_time, area, ST_AsText(geom), MAX(ingestion_time) OVER (PARTITION BY id_jrc)\"\n",
    "sub_q_from = \" FROM manuscript_threshold_geom\"\n",
    "sub_q_where = \" WHERE area>0 AND to_char(ingestion_time,'YYYY')='\" + \"{:0>2d}\".format(year) + \"' AND to_char(ingestion_time,'MM')='\"+ \"{:0>2d}\".format(month) +\"'\"\n",
    "\n",
    "\n",
    "sub_q = sub_q_select + sub_q_from + sub_q_where\n",
    "\n",
    "#q_select = \" SELECT id, id_jrc, ingestion_time, area, ST_AsText(geom)\"\n",
    "#q_from = \" FROM (\" + sub_q + \") AS q01\"\n",
    "#q_where=\" WHERE (ingestion_time = q01)\"\n",
    "\n",
    "#query=q_select + q_from + q_where + ' LIMIT 50;'\n",
    "\n"
   ]
  },
  {
   "cell_type": "code",
   "execution_count": 153,
   "id": "e0bb3b7f",
   "metadata": {},
   "outputs": [],
   "source": [
    "cursor.execute(sub_q)"
   ]
  },
  {
   "cell_type": "code",
   "execution_count": 94,
   "id": "117b9d73",
   "metadata": {},
   "outputs": [
    {
     "data": {
      "text/plain": [
       "(Column(name='id', type_code=20),\n",
       " Column(name='id_jrc', type_code=23),\n",
       " Column(name='ingestion_time', type_code=1184),\n",
       " Column(name='area', type_code=700),\n",
       " Column(name='st_astext', type_code=25),\n",
       " Column(name='max', type_code=1184))"
      ]
     },
     "execution_count": 94,
     "metadata": {},
     "output_type": "execute_result"
    }
   ],
   "source": [
    "cursor.description"
   ]
  },
  {
   "cell_type": "code",
   "execution_count": 154,
   "id": "2180d617",
   "metadata": {},
   "outputs": [],
   "source": [
    "rows_list=[]\n",
    "for index,id_jrc,ingestion_time,area,geo,max_ingest in cursor:\n",
    "    data={'id':index,'id_jrc':id_jrc,'ingestion_time':ingestion_time,'area':area,'geometry':shapely.wkt.loads(geo),'max':max_ingest}\n",
    "    rows_list.append(data)\n",
    "gdf=gpd.GeoDataFrame(rows_list,crs='epsg:4326').set_index(['id'])\n",
    "\n"
   ]
  },
  {
   "cell_type": "markdown",
   "id": "e1451b79",
   "metadata": {},
   "source": [
    "### Filter only latest extents in the given month for each id_jrc"
   ]
  },
  {
   "cell_type": "code",
   "execution_count": 169,
   "id": "50d7b166",
   "metadata": {},
   "outputs": [],
   "source": [
    "gdf_unique=gdf.loc[gdf['max']==gdf['ingestion_time']].copy()"
   ]
  },
  {
   "cell_type": "code",
   "execution_count": 173,
   "id": "48265487",
   "metadata": {},
   "outputs": [
    {
     "data": {
      "text/html": [
       "<div>\n",
       "<style scoped>\n",
       "    .dataframe tbody tr th:only-of-type {\n",
       "        vertical-align: middle;\n",
       "    }\n",
       "\n",
       "    .dataframe tbody tr th {\n",
       "        vertical-align: top;\n",
       "    }\n",
       "\n",
       "    .dataframe thead th {\n",
       "        text-align: right;\n",
       "    }\n",
       "</style>\n",
       "<table border=\"1\" class=\"dataframe\">\n",
       "  <thead>\n",
       "    <tr style=\"text-align: right;\">\n",
       "      <th></th>\n",
       "      <th>id_jrc</th>\n",
       "      <th>ingestion_time</th>\n",
       "      <th>area</th>\n",
       "      <th>geometry</th>\n",
       "      <th>max</th>\n",
       "    </tr>\n",
       "    <tr>\n",
       "      <th>id</th>\n",
       "      <th></th>\n",
       "      <th></th>\n",
       "      <th></th>\n",
       "      <th></th>\n",
       "      <th></th>\n",
       "    </tr>\n",
       "  </thead>\n",
       "  <tbody>\n",
       "    <tr>\n",
       "      <th>182860</th>\n",
       "      <td>5</td>\n",
       "      <td>2020-04-04 08:26:04+02:00</td>\n",
       "      <td>11068.50</td>\n",
       "      <td>MULTIPOLYGON (((-40.68198 -5.88946, -40.68189 ...</td>\n",
       "      <td>2020-04-04 08:26:04+02:00</td>\n",
       "    </tr>\n",
       "    <tr>\n",
       "      <th>172573</th>\n",
       "      <td>7</td>\n",
       "      <td>2020-04-11 08:17:35+02:00</td>\n",
       "      <td>8195.97</td>\n",
       "      <td>MULTIPOLYGON (((-38.56555 -5.88977, -38.56528 ...</td>\n",
       "      <td>2020-04-11 08:17:35+02:00</td>\n",
       "    </tr>\n",
       "    <tr>\n",
       "      <th>161736</th>\n",
       "      <td>12</td>\n",
       "      <td>2020-04-11 08:17:35+02:00</td>\n",
       "      <td>44140.20</td>\n",
       "      <td>MULTIPOLYGON (((-38.53087 -5.88986, -38.53078 ...</td>\n",
       "      <td>2020-04-11 08:17:35+02:00</td>\n",
       "    </tr>\n",
       "    <tr>\n",
       "      <th>165011</th>\n",
       "      <td>19</td>\n",
       "      <td>2020-04-11 08:17:35+02:00</td>\n",
       "      <td>40387.70</td>\n",
       "      <td>MULTIPOLYGON (((-38.52306 -5.89157, -38.52261 ...</td>\n",
       "      <td>2020-04-11 08:17:35+02:00</td>\n",
       "    </tr>\n",
       "    <tr>\n",
       "      <th>165307</th>\n",
       "      <td>24</td>\n",
       "      <td>2020-04-11 08:17:35+02:00</td>\n",
       "      <td>13330.40</td>\n",
       "      <td>MULTIPOLYGON (((-38.65565 -5.89364, -38.65502 ...</td>\n",
       "      <td>2020-04-11 08:17:35+02:00</td>\n",
       "    </tr>\n",
       "    <tr>\n",
       "      <th>...</th>\n",
       "      <td>...</td>\n",
       "      <td>...</td>\n",
       "      <td>...</td>\n",
       "      <td>...</td>\n",
       "      <td>...</td>\n",
       "    </tr>\n",
       "    <tr>\n",
       "      <th>169957</th>\n",
       "      <td>28656</td>\n",
       "      <td>2020-04-11 08:17:35+02:00</td>\n",
       "      <td>13133.20</td>\n",
       "      <td>MULTIPOLYGON (((-38.64379 -5.88268, -38.64361 ...</td>\n",
       "      <td>2020-04-11 08:17:35+02:00</td>\n",
       "    </tr>\n",
       "    <tr>\n",
       "      <th>144971</th>\n",
       "      <td>28667</td>\n",
       "      <td>2020-04-06 08:09:48+02:00</td>\n",
       "      <td>7406.89</td>\n",
       "      <td>MULTIPOLYGON (((-38.24954 -5.88628, -38.24936 ...</td>\n",
       "      <td>2020-04-06 08:09:48+02:00</td>\n",
       "    </tr>\n",
       "    <tr>\n",
       "      <th>160529</th>\n",
       "      <td>28670</td>\n",
       "      <td>2020-04-11 08:17:35+02:00</td>\n",
       "      <td>4344.84</td>\n",
       "      <td>MULTIPOLYGON (((-38.59735 -5.88663, -38.59699 ...</td>\n",
       "      <td>2020-04-11 08:17:35+02:00</td>\n",
       "    </tr>\n",
       "    <tr>\n",
       "      <th>159577</th>\n",
       "      <td>28680</td>\n",
       "      <td>2020-04-11 08:17:35+02:00</td>\n",
       "      <td>11849.50</td>\n",
       "      <td>MULTIPOLYGON (((-38.60624 -5.88780, -38.60606 ...</td>\n",
       "      <td>2020-04-11 08:17:35+02:00</td>\n",
       "    </tr>\n",
       "    <tr>\n",
       "      <th>183001</th>\n",
       "      <td>28681</td>\n",
       "      <td>2020-04-04 08:26:04+02:00</td>\n",
       "      <td>14331.20</td>\n",
       "      <td>MULTIPOLYGON (((-40.77621 -5.88830, -40.77612 ...</td>\n",
       "      <td>2020-04-04 08:26:04+02:00</td>\n",
       "    </tr>\n",
       "  </tbody>\n",
       "</table>\n",
       "<p>12161 rows × 5 columns</p>\n",
       "</div>"
      ],
      "text/plain": [
       "        id_jrc            ingestion_time      area  \\\n",
       "id                                                   \n",
       "182860       5 2020-04-04 08:26:04+02:00  11068.50   \n",
       "172573       7 2020-04-11 08:17:35+02:00   8195.97   \n",
       "161736      12 2020-04-11 08:17:35+02:00  44140.20   \n",
       "165011      19 2020-04-11 08:17:35+02:00  40387.70   \n",
       "165307      24 2020-04-11 08:17:35+02:00  13330.40   \n",
       "...        ...                       ...       ...   \n",
       "169957   28656 2020-04-11 08:17:35+02:00  13133.20   \n",
       "144971   28667 2020-04-06 08:09:48+02:00   7406.89   \n",
       "160529   28670 2020-04-11 08:17:35+02:00   4344.84   \n",
       "159577   28680 2020-04-11 08:17:35+02:00  11849.50   \n",
       "183001   28681 2020-04-04 08:26:04+02:00  14331.20   \n",
       "\n",
       "                                                 geometry  \\\n",
       "id                                                          \n",
       "182860  MULTIPOLYGON (((-40.68198 -5.88946, -40.68189 ...   \n",
       "172573  MULTIPOLYGON (((-38.56555 -5.88977, -38.56528 ...   \n",
       "161736  MULTIPOLYGON (((-38.53087 -5.88986, -38.53078 ...   \n",
       "165011  MULTIPOLYGON (((-38.52306 -5.89157, -38.52261 ...   \n",
       "165307  MULTIPOLYGON (((-38.65565 -5.89364, -38.65502 ...   \n",
       "...                                                   ...   \n",
       "169957  MULTIPOLYGON (((-38.64379 -5.88268, -38.64361 ...   \n",
       "144971  MULTIPOLYGON (((-38.24954 -5.88628, -38.24936 ...   \n",
       "160529  MULTIPOLYGON (((-38.59735 -5.88663, -38.59699 ...   \n",
       "159577  MULTIPOLYGON (((-38.60624 -5.88780, -38.60606 ...   \n",
       "183001  MULTIPOLYGON (((-40.77621 -5.88830, -40.77612 ...   \n",
       "\n",
       "                             max  \n",
       "id                                \n",
       "182860 2020-04-04 08:26:04+02:00  \n",
       "172573 2020-04-11 08:17:35+02:00  \n",
       "161736 2020-04-11 08:17:35+02:00  \n",
       "165011 2020-04-11 08:17:35+02:00  \n",
       "165307 2020-04-11 08:17:35+02:00  \n",
       "...                          ...  \n",
       "169957 2020-04-11 08:17:35+02:00  \n",
       "144971 2020-04-06 08:09:48+02:00  \n",
       "160529 2020-04-11 08:17:35+02:00  \n",
       "159577 2020-04-11 08:17:35+02:00  \n",
       "183001 2020-04-04 08:26:04+02:00  \n",
       "\n",
       "[12161 rows x 5 columns]"
      ]
     },
     "execution_count": 173,
     "metadata": {},
     "output_type": "execute_result"
    }
   ],
   "source": [
    "gdf_unique"
   ]
  },
  {
   "cell_type": "markdown",
   "id": "6e89d9c7",
   "metadata": {},
   "source": [
    "### Create list of geometries in shapely"
   ]
  },
  {
   "cell_type": "code",
   "execution_count": 209,
   "id": "73f78414",
   "metadata": {},
   "outputs": [],
   "source": [
    "gdf_unique[\"value\"]=1\n",
    "shapes = ((geom, value) for geom, value in zip(gdf_unique.geometry, gdf_unique.value))"
   ]
  },
  {
   "cell_type": "markdown",
   "id": "bb8b980c",
   "metadata": {},
   "source": [
    "### Create template raster"
   ]
  },
  {
   "cell_type": "code",
   "execution_count": 181,
   "id": "28db0beb",
   "metadata": {},
   "outputs": [],
   "source": [
    "import rasterio\n",
    "rst = rasterio.open('../data/benchmark.tif')\n",
    "meta = rst.meta.copy()\n",
    "meta.update(compress='lzw')\n"
   ]
  },
  {
   "cell_type": "code",
   "execution_count": 195,
   "id": "7c9476ac",
   "metadata": {},
   "outputs": [
    {
     "data": {
      "text/plain": [
       "Affine(0.00025, 0.0, -40.0,\n",
       "       0.0, -0.00025, -2.837)"
      ]
     },
     "execution_count": 195,
     "metadata": {},
     "output_type": "execute_result"
    }
   ],
   "source": [
    "meta[\"transform\"]"
   ]
  },
  {
   "cell_type": "markdown",
   "id": "1d5b5bd6",
   "metadata": {},
   "source": [
    "### Burn into raster"
   ]
  },
  {
   "cell_type": "code",
   "execution_count": 208,
   "id": "9f6bcc8e",
   "metadata": {},
   "outputs": [],
   "source": [
    "from rasterio import features\n",
    "with rasterio.open('../data/burned_raster.tif', 'w+', **meta) as out:\n",
    "    out_arr = out.read(1)\n",
    "#     burned = features.rasterize(shapes=shapes, fill=0, out=out_arr, transform=out.transform)\n",
    "    burned = features.rasterize(shapes=shapes, out_shape=(meta['height'],meta['width']),fill=0, transform=meta['transform'])\n",
    "    out.write_band(1, burned)"
   ]
  },
  {
   "cell_type": "markdown",
   "id": "c1eee17f",
   "metadata": {},
   "source": [
    "### Alternative without opening file"
   ]
  },
  {
   "cell_type": "code",
   "execution_count": 210,
   "id": "cfc98f66",
   "metadata": {},
   "outputs": [],
   "source": [
    "burned1 = features.rasterize(shapes=shapes, out_shape=[meta['height'],meta['width']],fill=0, transform=meta['transform'])\n",
    "# burned2 = features.rasterize(shapes=shapes, out_shape=[meta['height'],meta['width']],fill=0, transform=meta['transform'])\n"
   ]
  },
  {
   "cell_type": "markdown",
   "id": "d294d885",
   "metadata": {},
   "source": [
    "### Still can save raster to file later"
   ]
  },
  {
   "cell_type": "code",
   "execution_count": 211,
   "id": "0e809fe6",
   "metadata": {},
   "outputs": [],
   "source": [
    "with rasterio.open('../data/burned_raster.tif', 'w+', **meta) as out:\n",
    "    out.write_band(1,burned1)"
   ]
  }
 ],
 "metadata": {
  "kernelspec": {
   "display_name": "ogr-pg12",
   "language": "python",
   "name": "ogr-pg12"
  },
  "language_info": {
   "codemirror_mode": {
    "name": "ipython",
    "version": 3
   },
   "file_extension": ".py",
   "mimetype": "text/x-python",
   "name": "python",
   "nbconvert_exporter": "python",
   "pygments_lexer": "ipython3",
   "version": "3.9.0"
  }
 },
 "nbformat": 4,
 "nbformat_minor": 5
}
