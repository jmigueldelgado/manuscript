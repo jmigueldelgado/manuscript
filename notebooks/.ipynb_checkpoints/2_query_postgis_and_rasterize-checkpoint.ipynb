{
 "cells": [
  {
   "cell_type": "markdown",
   "id": "14c1c966",
   "metadata": {},
   "source": [
    "## Connect and query"
   ]
  },
  {
   "cell_type": "code",
   "execution_count": 3,
   "id": "2d7e3cf7",
   "metadata": {},
   "outputs": [],
   "source": [
    "import sys\n",
    "sys.path.append('/home/delgado/proj/buhayra_manuscript/buhayra')\n"
   ]
  },
  {
   "cell_type": "code",
   "execution_count": 4,
   "id": "ecd98ab2",
   "metadata": {},
   "outputs": [],
   "source": [
    "from credentials import *"
   ]
  },
  {
   "cell_type": "code",
   "execution_count": 34,
   "id": "7fbef99d",
   "metadata": {},
   "outputs": [],
   "source": [
    "import psycopg2\n",
    "import osgeo.ogr\n",
    "import shapely\n",
    "import shapely.wkt\n",
    "import geopandas as gpd"
   ]
  },
  {
   "cell_type": "code",
   "execution_count": 7,
   "id": "0533feaa",
   "metadata": {},
   "outputs": [],
   "source": [
    "connection = psycopg2.connect(database=\"watermasks\",user=postgis_user, password=postgis_pass,host=postgis_host)\n",
    "cursor = connection.cursor()\n",
    "\n"
   ]
  },
  {
   "cell_type": "code",
   "execution_count": 108,
   "id": "c1c25a9f",
   "metadata": {},
   "outputs": [],
   "source": [
    "query='SELECT id, id_jrc, ingestion_time, ST_AsText(geom) FROM manuscript_threshold_geom WHERE area>0 LIMIT 50'"
   ]
  },
  {
   "cell_type": "code",
   "execution_count": 109,
   "id": "2180d617",
   "metadata": {},
   "outputs": [],
   "source": [
    "cursor.execute(query)\n",
    "rows_list=[]\n",
    "for index,id_jrc,ingestion_time,geo in cursor:\n",
    "    data={'id':index,'id_jrc':id_jrc,'ingestion_time':ingestion_time,'geometry':shapely.wkt.loads(geo)}\n",
    "    rows_list.append(data)\n",
    "gdf=gpd.GeoDataFrame(rows_list,crs='epsg:4326').set_index(['id'])\n",
    "\n"
   ]
  },
  {
   "cell_type": "markdown",
   "id": "6e89d9c7",
   "metadata": {},
   "source": [
    "### Create list of geometries in shapely"
   ]
  },
  {
   "cell_type": "code",
   "execution_count": 110,
   "id": "3c33dd0a",
   "metadata": {},
   "outputs": [],
   "source": [
    "gdf['new_column']=0\n",
    "all=gdf.dissolve('new_column')"
   ]
  },
  {
   "cell_type": "code",
   "execution_count": 111,
   "id": "73f78414",
   "metadata": {},
   "outputs": [],
   "source": [
    "shapes = ((geom) for id_jrc, geom in zip(gdf.id_jrc, gdf.geometry))"
   ]
  },
  {
   "cell_type": "markdown",
   "id": "bb8b980c",
   "metadata": {},
   "source": [
    "### Create template raster"
   ]
  },
  {
   "cell_type": "code",
   "execution_count": 112,
   "id": "28db0beb",
   "metadata": {},
   "outputs": [],
   "source": [
    "import rasterio\n",
    "rst = rasterio.open('../data/benchmark.tif')\n",
    "meta = rst.meta.copy()\n",
    "meta.update(compress='lzw')\n"
   ]
  },
  {
   "cell_type": "markdown",
   "id": "1d5b5bd6",
   "metadata": {},
   "source": [
    "### Burn into raster"
   ]
  },
  {
   "cell_type": "code",
   "execution_count": 113,
   "id": "9f6bcc8e",
   "metadata": {},
   "outputs": [],
   "source": [
    "from rasterio import features\n",
    "with rasterio.open('../data/burned_raster.tif', 'w+', **meta) as out:\n",
    "    out_arr = out.read(1)\n",
    "    burned = features.rasterize(shapes=shapes, fill=0, out=out_arr, transform=out.transform)\n",
    "    out.write_band(1, burned)"
   ]
  },
  {
   "cell_type": "code",
   "execution_count": null,
   "id": "cfc98f66",
   "metadata": {},
   "outputs": [],
   "source": []
  }
 ],
 "metadata": {
  "kernelspec": {
   "display_name": "ogr-pg12",
   "language": "python",
   "name": "ogr-pg12"
  },
  "language_info": {
   "codemirror_mode": {
    "name": "ipython",
    "version": 3
   },
   "file_extension": ".py",
   "mimetype": "text/x-python",
   "name": "python",
   "nbconvert_exporter": "python",
   "pygments_lexer": "ipython3",
   "version": "3.9.0"
  }
 },
 "nbformat": 4,
 "nbformat_minor": 5
}
